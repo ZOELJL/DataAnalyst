{
 "cells": [
  {
   "cell_type": "code",
   "execution_count": 1,
   "metadata": {},
   "outputs": [
    {
     "ename": "IndexError",
     "evalue": "list assignment index out of range",
     "output_type": "error",
     "traceback": [
      "\u001b[0;31m---------------------------------------------------------------------------\u001b[0m",
      "\u001b[0;31mIndexError\u001b[0m                                Traceback (most recent call last)",
      "\u001b[0;32m<ipython-input-1-a6a8a30d55a2>\u001b[0m in \u001b[0;36m<module>\u001b[0;34m\u001b[0m\n\u001b[1;32m     16\u001b[0m     \u001b[0mxpathtree\u001b[0m \u001b[0;34m=\u001b[0m \u001b[0metree\u001b[0m\u001b[0;34m.\u001b[0m\u001b[0mHTML\u001b[0m\u001b[0;34m(\u001b[0m\u001b[0mresponse\u001b[0m\u001b[0;34m.\u001b[0m\u001b[0mtext\u001b[0m\u001b[0;34m)\u001b[0m\u001b[0;34m\u001b[0m\u001b[0;34m\u001b[0m\u001b[0m\n\u001b[1;32m     17\u001b[0m     \u001b[0mres\u001b[0m \u001b[0;34m=\u001b[0m \u001b[0mxpathtree\u001b[0m\u001b[0;34m.\u001b[0m\u001b[0mxpath\u001b[0m\u001b[0;34m(\u001b[0m\u001b[0;34m'//tr[@align=\"left\"]'\u001b[0m\u001b[0;34m)\u001b[0m\u001b[0;34m\u001b[0m\u001b[0;34m\u001b[0m\u001b[0m\n\u001b[0;32m---> 18\u001b[0;31m     \u001b[0;32mdel\u001b[0m \u001b[0mres\u001b[0m\u001b[0;34m[\u001b[0m\u001b[0;36m0\u001b[0m\u001b[0;34m]\u001b[0m\u001b[0;34m\u001b[0m\u001b[0;34m\u001b[0m\u001b[0m\n\u001b[0m\u001b[1;32m     19\u001b[0m \u001b[0;34m\u001b[0m\u001b[0m\n\u001b[1;32m     20\u001b[0m     \u001b[0;32mfor\u001b[0m \u001b[0mresi\u001b[0m \u001b[0;32min\u001b[0m \u001b[0mres\u001b[0m\u001b[0;34m:\u001b[0m\u001b[0;34m\u001b[0m\u001b[0;34m\u001b[0m\u001b[0m\n",
      "\u001b[0;31mIndexError\u001b[0m: list assignment index out of range"
     ]
    }
   ],
   "source": [
    "import requests\n",
    "from lxml import etree\n",
    "import re\n",
    "import urllib\n",
    "import os\n",
    "\n",
    "try:\n",
    "    os.mkdir('./savefiles') # 创建文件夹存放下载的招标文件\n",
    "except:\n",
    "    print('已经存在，不需要重复创建')\n",
    "#设置计数变量\n",
    "globalf = 0\n",
    "globalg = 0\n",
    "\n",
    "# 循环页码\n",
    "for i in range(1,382):\n",
    "    url = 'https://ecp.sgcc.com.cn/ecp2.0/portal/#/list/list-spe/2018032600289606_%d_2018032700291334'%i\n",
    "    header = {\n",
    "        'User-Agent':'Mozilla/5.0 (Macintosh; Intel Mac OS X 11_1_0) AppleWebKit/537.36 (KHTML, like Gecko) Chrome/87.0.4280.88 Safari/537.36'\n",
    "    }\n",
    "    response = requests.get(url = url,headers = header)\n",
    "    xpathtree = etree.HTML(response.text)\n",
    "    res = xpathtree.xpath('//tr[@align=\"left\"]')\n",
    "    del res[0]\n",
    "    locala = 0\n",
    "    for resi in res:\n",
    "        try:\n",
    "            str1 = resi.xpath('./td[@class=\"black40\"]/a/@onclick')[0]\n",
    "            num = re.search('showProjectDetail\\((.*?),\\'(.*?)\\'\\);',str1)\n",
    "            num = num.group(2) \n",
    "            url2 = 'https://ecp.sgcc.com.cn/ecp2.0/portal/#/doc/doci-bid/2020123197978485_2018032700291334%s'%num\n",
    "            response2 = requests.get(url=url2,headers=header)\n",
    "            projectstatus = etree.HTML(response2.text).xpath('//tr/td/text()')[1]  # //td[2] \n",
    "            projectstatus = re.search('(\\S+.*?)',projectstatus).group(1)\n",
    "            projectname =  etree.HTML(response2.text).xpath('//td[2]/text()')[2]\n",
    "            url3 = etree.HTML(response2.text).xpath('//td/a/@href')[0]\n",
    "            originalurl = 'http://ecp.sgcc.com.cn'\n",
    "            downloadurl = originalurl + url3\n",
    "        except:\n",
    "            print('本页面有问题',url2)\n",
    "            \n",
    "        try:\n",
    "            urllib.request.urlretrieve(url=downloadurl,filename='./savefiles/%s.zip'%projectname)\n",
    "            globalf +=1\n",
    "            locala +=1\n",
    "        except:\n",
    "            globalg +=1\n",
    "            print('这个地址下载失败',downloadurl)\n",
    "            continue   # 下载失败则跳过 继续下载\n",
    "    print('第%d页下载成功%d份标书'%（i,locala))\n",
    "    print('第%d页下载完成'%i)\n",
    "    print('截止此刻下载成功%d份标书'%globalf)\n",
    "\n",
    "print('全部下载成功文件数量：',globalf)\n",
    "print('全部下载失败文件数量：',globalg)"
   ]
  },
  {
   "cell_type": "code",
   "execution_count": null,
   "metadata": {},
   "outputs": [],
   "source": []
  }
 ],
 "metadata": {
  "kernelspec": {
   "display_name": "Python 3",
   "language": "python",
   "name": "python3"
  },
  "language_info": {
   "codemirror_mode": {
    "name": "ipython",
    "version": 3
   },
   "file_extension": ".py",
   "mimetype": "text/x-python",
   "name": "python",
   "nbconvert_exporter": "python",
   "pygments_lexer": "ipython3",
   "version": "3.8.3"
  }
 },
 "nbformat": 4,
 "nbformat_minor": 4
}
